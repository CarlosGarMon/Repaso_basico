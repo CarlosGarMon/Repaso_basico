{
  "nbformat": 4,
  "nbformat_minor": 0,
  "metadata": {
    "colab": {
      "name": "repaso_1310_2022.ipynb",
      "provenance": [],
      "collapsed_sections": [
        "3q15K0fBfMY2",
        "BtAARTAVkunB",
        "8J8dVL2QnbqX",
        "e4hrxtZsonjB"
      ],
      "authorship_tag": "ABX9TyP2OjAIzYjZRHkgy+1VJNX7",
      "include_colab_link": true
    },
    "kernelspec": {
      "name": "python3",
      "display_name": "Python 3"
    },
    "language_info": {
      "name": "python"
    }
  },
  "cells": [
    {
      "cell_type": "markdown",
      "metadata": {
        "id": "view-in-github",
        "colab_type": "text"
      },
      "source": [
        "<a href=\"https://colab.research.google.com/github/CarlosGarMon/Repaso_basico/blob/main/repaso_1310_30-09-21.ipynb\" target=\"_parent\"><img src=\"https://colab.research.google.com/assets/colab-badge.svg\" alt=\"Open In Colab\"/></a>"
      ]
    },
    {
      "cell_type": "markdown",
      "metadata": {
        "id": "3q15K0fBfMY2"
      },
      "source": [
        "# Repaso de programación con Phyton 3\n",
        "\n",
        "#### EDD 1310 (Markdown)\n",
        "\n",
        "La función print\n",
        "\n",
        "1. Utilizando comillas dobles o simples\n",
        "1. Utilizando el signo \",\"\n",
        "1. Utilizando el signo \"+\"\n",
        "1. Utilizando la funcion format\n",
        "1. Utilizando el operador f\"\n",
        "\n"
      ]
    },
    {
      "cell_type": "code",
      "metadata": {
        "id": "fF-CziuEbm9p"
      },
      "source": [
        "print('Hola mundo')\n",
        "print(\"Hola mundo\")\n",
        "\n",
        "nombre = \"Carlos\"\n",
        "carrera = \"Ingeniería en Computación\"\n",
        "\n",
        "print(nombre)\n",
        "print(\"Hola\", nombre) #Concatena y agrega un espacio \n",
        "print(\"Hola\" + nombre) #Concatena sin agregar espacio \n",
        "\n",
        "print(\"Tu nombre es\", nombre, \"y estudiaste\", carrera)\n",
        "\n",
        "#con format\n",
        "print(\"Tu nombre es {} y estudiaste {}\".format(nombre, carrera))\n",
        "print(\"Tu nombre es {} y estudiaste {}\".format(\"Enrique\", carrera)) #Tambien se pueden poner literales, no solo variables\n",
        "print(\"Tu nombre es {1} y estudiaste {0}\".format(nombre, carrera)) #Se cambia el orden de aparicion de los comodines {}\n",
        "\n",
        "#con el operador f\"\n",
        "print(f\"Tu nombre es { nombre } y estudiaste { carrera }\")\n",
        "\n",
        "#salto de línea al final\n",
        "print(nombre , end=\"\\n\") #End viene por defecto en la función print\n",
        "print(\" \", end=\"\\n\")\n",
        "print(carrera, end=\"\\n\")\n",
        "\n",
        "print(nombre , end=\"\") #Para que no haga salto de linea especificamos que end está vacio\n",
        "print(\" \", end=\"\")\n",
        "print(carrera, end=\"\")\n"
      ],
      "execution_count": null,
      "outputs": []
    },
    {
      "cell_type": "markdown",
      "metadata": {
        "id": "BtAARTAVkunB"
      },
      "source": [
        "##Entrada de datos\n",
        "#### Función input ()\n",
        "\n",
        "Sirve para pedir datos al usuario, equivalemnte al scanf de C o a la clase Scanner de Javar. Siempre regresa un string "
      ]
    },
    {
      "cell_type": "code",
      "metadata": {
        "id": "EYyVjW5Mk8vr"
      },
      "source": [
        "nombre = input(\"Introduce tu nombre: \")\n",
        "print(nombre)\n",
        "\n",
        "semestre = input(\"En que semestre estas? R= \")\n",
        "print(semestre)\n",
        "semestre = int(semestre) + 1 #Cambia de string a int, \"cast?\"\n",
        "print(semestre)\n",
        "semestre = semestre + 1 #Ya no es necesario hacer la conversion a int\n",
        "print(semestre)\n",
        "\n",
        "semestre = int(input (\"Cual es tu semestre?: \")) #Transforma directamente los a int lo que entre a input\n",
        "semestre = semestre + 1\n",
        "print(semestre)\n"
      ],
      "execution_count": null,
      "outputs": []
    },
    {
      "cell_type": "markdown",
      "metadata": {
        "id": "8J8dVL2QnbqX"
      },
      "source": [
        "### TAREA MORAL \n",
        "Investigar los sigueintes conceptos en Python:\n",
        "- Operadores\n",
        "    - ARITMÉTICOS: Los operadores aritméticos cuantan con operando derecho y uno izquierdo, son binarios. Generalmente se aplican a datos numéricos aunque el operador suma (+) también se emplea para concatenar secuencias (cadenas, listas, etc.).\n",
        " \"+\" Devuelve la suma de los operandos\n",
        " \"-\" Devuelve la resta del operando de la izquierda por el de la derecha\n",
        " \"/\" Devuelve la división del operando de la izqueida por el de la derecha\n",
        " \"*\" Devuelve la multiplicación de los operandos\n",
        " \"//\" Devuelve la división truncada (parte entera del cociente) del operando de la izquierda por el de la derecha\n",
        " \"**\" Devuelve el operando izquierdo elevado a la potencia que representa el operando derecho.\n",
        " \"%\" Devuelve el resto de la división del operando izquierdo por el operando derecho.\n",
        "\n",
        "    - LÓGICOS: Estos son la conjunción, la disyunción y la negación. Para comprender su funcionamiento debe tenerse en cuenta la evaluación a tipo bool que poseen lo objetos empleados como operandos. La forma en la que los operadores lógicos devuelven un resultado de verdad a partir de sus operandos es la siguiente:\n",
        "\n",
        "Operador      Operando Izq.    Operando Der.    Resultado\n",
        "              True              True             True\n",
        "or            False             True             True\n",
        "              True              False            True\n",
        "              False             False            False\n",
        "\n",
        "              True              True             True\n",
        "and           False             True             False\n",
        "              True              False            False\n",
        "              False             False            False\n",
        "\n",
        "              Operando          Restulado\n",
        "not           True              False            \n",
        "              False             True\n",
        "\n",
        "    - Boolenaos (and, or, not)\n",
        "\n",
        "- Aritmética \n",
        "    - ASIGNACIÓN:Una asignación es básicamente la reserva o modificación de memoria del oerdenador para cumplir un propósito inmediato. Los operadores de asignación son binacrios eincluyen a los operadores de asiganción extendida que realizan una operaciones antes de llevar a cabo la asignación.\n",
        "\"=\" Asigna a la expresión e valor de la expresion derecha\n",
        "\"+=\" Asigna la expresión izquierda el valor de la expresion derecha sumada al valor de la propia expresion izquierda\n",
        "\"-=\" Asigna la expresión izquierda el valor de la expresion derecha restada al valor de la propia expresión izquierda\n",
        "\"/=\" Asigna la expresión izquierda el valor de la expresion derecha dividida al valor de la propia expresión izquierda\n",
        "\"*=\" Asigna la expresión izquierda el valor de la expresion derecha multiplicada al valor de la propia expresion izquierda\n",
        "\"%=\" Asigna la expresión izquierda el valor del resto de la división de la expresión izquierda por la expresión derecha\n",
        "\"**=\" Asigna a la expresión izquierda el valor de la potenciación de la expresión izquierda como base y la expresión derecha como potencia\n",
        "\"&=\" Asigna la expresión izquierda el valor de la conjunción lógica de la expresión izquierda con la expresión derecha.\n",
        "\"!=\" Asigna a la expresión izquierda el valor de la disyunción lógica de la expresión izquierda con la expresión derecha.\n",
        "\"^=\" Asigna a la expresión izquierda el valor de la disyunción exclusiva (XOR) de la expresión izqueirda con la expresión derecha.\n",
        "\">>=\" Asigna la expresión izquierda el desplazamiento a la derecha de la expresión izquirda la cantidad de veces definida por la expresión derecha.\n",
        "\">>=\" Asigna la expresión izquierda el desplazamiento a la izquierda de la expresión izquirda la cantidad de veces definida por la expresión derecha.\n",
        "\n",
        "    - Agrupación de ecuciones con paréntesis (precedencia de operadores) PRECEDENCIA:\n",
        "        1. Términos entre paréntesis \"()\"\n",
        "        2. Protencias y raices \"**\"\n",
        "        3. Multiplicación y división \"*, /, %, //\"\n",
        "        4. Suma y resta \"+, -\"\n",
        "\n",
        "- Cómo hacer comentarios\n",
        "    - SIMPLE LÍNEA: Escribiendo el símbolo almoadilla delante de la línea de texto donde está el comentario.\n",
        "\n",
        "    - DE LÍNEA MÚLTIPLE: Escribiendo triple comilla doble (\"\"\") al principio y al final del comentario (que puede ocupar más de una línea). \n",
        "\n",
        "- Tipos de datos en Python:\n",
        "    - Phyton es un lenguaje de alto nivel, los datos en el lenguaje son representados como objetos y cada objeto tiene un tipo. El tipo de un objeto determina las operaciones y atributos que posee y si puede ser alterado. Un objeto que puede ser alterado se dice que es mutable, en caso contrario es inmutable.\n",
        "    1. Secuencias: Es un contenedor de elementos ordenados a los cuales es posible acceder mediante un índice que consiste en un entero no negativo (mayor o igual a cero). Pyton ofrece tipos predefinidos de secuencias entre las cuales cabe mencionar las cadenas, listas y tuplas.\n",
        "        - Cadenas (string): COnjunto ordenado de caracteres que se utiliza para representar información textual. Las cadenas son objetos inmutables.\n",
        "        - Listas: Secuencias de elementos ordenados que además tienen la característica de ser mutables. Cada elemento puede ser de cualquier tipo.\n",
        "        - Tuplas: Secuancia ordeana de elementos que, a diferencia de la lista, es inmutable y, por ende, las operaciones sobre esta resultan en una nueva tupla, la original no sufre cambios. La sintaxis es con paréntesis \"()\"\n",
        "    2. Diccionarios: Es una correspondencia que se establece en un multiconjunto de elementos de cardinalidad n. Se enncuentra particionado en dos multiconjuntos de valores. Entre estos conjuntos se establece una función inyectiva de manera que a cada llave le corresponde un elemento y un elemento puede estar asociado a varias llaes. Carecen de orden y son mutables\n",
        "    3. Numéricos: Están los objetos que representan los numeros enteros, los que representan los numeros completos y aquellos que manejan números de punto flotante. Todos son inmutables de modo que una operación que se realice sobre ellos resulta en un nuevo objeto numérico.\n",
        "    4. None: El tipo none es el equivalente a null en muchos lenguajes de programación. NO contiene métodos y tampoco atributos. Suele utilizarse cuando se crea una variable cuyo valor inicial se desconoce y probablemente será conocido durante la ejecución de un programa. \n",
        "    5. Booleanos: Hereda de int y sus valores posibles son True y False.\n",
        "    6. Conjuntos: Se construyen a partir de una secuancia que se define como argumento de la funcipon set(). Son conjutnos tradicionales y no multiconjuntos de modoq ue solo un ejemplar de cada elemento repetido en la secundia de entrada es incluido en el conjunto resultante.\n",
        "\n"
      ]
    },
    {
      "cell_type": "markdown",
      "metadata": {
        "id": "e4hrxtZsonjB"
      },
      "source": [
        "### Repaso de String (str)\n",
        "\n",
        "Es un tipo de dato muy versátil. Los tipos de dato en Python en realidad son objetos (POO), es decir, tiene atributos y métodos. \n",
        "\n",
        "Los valores internos de un string se almacenan como un arreglo, se accede a los elementos con el _operador \"[ i ]\"_, i = indice.\n"
      ]
    },
    {
      "cell_type": "code",
      "metadata": {
        "id": "KFzfJnzrpFDM"
      },
      "source": [
        "frase = \"El conocimiento me persigue... pero yo soy más rápido!!+\"\n",
        "print(frase[3])\n",
        "\n",
        "print( len( frase ) )\n",
        "print( frase [len ( frase ) - 1])\n",
        "\n",
        "#indexado negativo \n",
        "print( frase [-8] )\n",
        "\n",
        "#iterar sobre un string\n",
        "for letra in frase: \n",
        "    print(letra)\n",
        "print(\"Fin\")"
      ],
      "execution_count": null,
      "outputs": []
    },
    {
      "cell_type": "markdown",
      "metadata": {
        "id": "qc-Ch09wGFOz"
      },
      "source": [
        "#Slicing\n",
        "Es posible seleccionar elementos de una lista (str) por medio de la sintaxis `[ <inicio> : <tope> : <incremento> ]`. Por defecto:\n",
        "- inicio = 0 o -1 (indexado negativo)\n",
        "- tope = tamaño de la lista o - string (no incluye el tope) o \"-0\" menos cero)\n",
        "- incremento = 1\n"
      ]
    },
    {
      "cell_type": "code",
      "metadata": {
        "id": "0q7Y3xeFGhc_"
      },
      "source": [
        "nombre = \"Facultad de Estudios Superiores Aragón\"\n",
        "print(nombre[0])\n",
        "print(nombre[-1])\n",
        "\n",
        "# Slicing\n",
        "print( nombre[ 2 : 5 : 1] ) #Imprime \"cul\" recuerda que hay que contemplar la ultima letra + 1\n",
        "print( nombre [ 0 : 7 + 1 : 1 ] )\n",
        "\n",
        "# Slicing con indexado negativo \n",
        "print( nombre [ -6 :  : 1 ]) #Usamos como tope el vacio por defecto\n",
        "print( nombre [ 7 :  : -1])"
      ],
      "execution_count": null,
      "outputs": []
    },
    {
      "cell_type": "markdown",
      "metadata": {
        "id": "oGkzckfHKgN7"
      },
      "source": [
        "# String como objeto\n",
        "El tipo de dato string es una clase, por lo tanto tiene atributos y métodos.\n",
        "\n",
        "## Ayuda en línea de Phyton\n",
        "Hay dos funciones que brindan ayuda en Phyton: \n",
        "1. dir()\n",
        "2. help()"
      ]
    },
    {
      "cell_type": "code",
      "metadata": {
        "id": "1vk81_3oKzsM"
      },
      "source": [
        "dir(str)"
      ],
      "execution_count": null,
      "outputs": []
    },
    {
      "cell_type": "code",
      "metadata": {
        "id": "l4ChPkL6LWit"
      },
      "source": [
        "apellidos = \"garcía pérez\"\n",
        "mayusculas = \"HOLA AMIGOS\"\n",
        "print( apellidos.capitalize() ) #Pone en mayuscula la primer letra de la cadena\n",
        "print( apellidos.title() )\n",
        "print( apellidos.find(\"a\") )\n",
        "print( mayusculas.lower() )\n",
        "print( apellidos.upper() )\n",
        "\n",
        "numeros = \"       1,       2,   3     , 4,5,6    \"\n",
        "print( numeros )\n",
        "num_divididos = numeros.strip().split(',') # Le indicamos que la separación lo haga por comas\n",
        "print( num_divididos )\n",
        "num_divididos[0] = num_divididos[0].strip()\n",
        "num_divididos[1] = num_divididos[1].strip()\n",
        "num_divididos[2] = num_divididos[2].strip()\n",
        "num_divididos[3] = num_divididos[3].strip()\n",
        "num_divididos[4] = num_divididos[4].strip()\n",
        "num_divididos[5] = num_divididos[5].strip()\n",
        "print(num_divididos)\n",
        "\n",
        "for elem in num_divididos:\n",
        "    print( elem)\n",
        "\n",
        "for index in range(6):\n",
        "    num_divididos[index] = num_divididos[index].strip()\n",
        "\n",
        "print( num_divididos )"
      ],
      "execution_count": null,
      "outputs": []
    },
    {
      "cell_type": "markdown",
      "metadata": {
        "id": "d1mqpkgwPZF4"
      },
      "source": [
        "#Estructuras de control\n",
        "## if\n",
        "## if - else\n",
        "## switch - case (en Phyton se implementa con IF)\n",
        "## for\n",
        "## while / do - while\n"
      ]
    },
    {
      "cell_type": "code",
      "metadata": {
        "id": "Md6hYBEwPXzH"
      },
      "source": [
        "#if\n",
        "a = 4\n",
        "b = 3\n",
        "c = 5\n",
        "print( a > b )\n",
        "\n",
        "if a > b :\n",
        "    print(\"Estamos en el IF \\nA es mayor que B\")\n",
        "print(\"Fin del programa\")\n",
        "\n",
        "########\n",
        "if c > a :\n",
        "    if c > b:\n",
        "        print(\"C es mayor de los 3\")\n",
        "\n",
        "if c>a and c>b:\n",
        "    print(\"C es el mayor de los tres\")\n",
        "\n",
        "#if - else\n",
        "if a > b:\n",
        "    if a > c:\n",
        "        print(\"A es la mayor\")\n",
        "    else:\n",
        "        print(\"C es la mayor\")\n",
        "else:\n",
        "    if b > c:\n",
        "        print(\"B es el mayor\")\n",
        "    else:\n",
        "        print(\"C es la mayor\")\n",
        "\n",
        "# if - else en Phyton tiene una sintaxis especial cuando un if viene dentro de un else\n",
        "if a > b:\n",
        "    if a > c:\n",
        "        print(\"A es la mayor\")\n",
        "    else:\n",
        "        print(\"C es la mayor\")\n",
        "\n",
        "elif b > c:\n",
        "    print(\"B es el mayor\")\n",
        "else:\n",
        "    print(\"C es la mayor\")\n",
        "\n",
        "\n",
        "#Pedir al usuario un numero entre 1 y 7, e imprimir el dia de la semana que correspona\n",
        "opcion = int(input (\"Introduce un numero entre 1 y 7: \"))\n",
        "if opcion > 0 and opcion < 8 :\n",
        "    if opcion == 1:\n",
        "        print(\"Lunes\")\n",
        "    elif opcion == 2:  ##Asi se implementaria un switch en phyton\n",
        "        print(\"Martes\")\n",
        "    elif opcion == 3:\n",
        "        print(\"Miercoles\")\n",
        "    elif opcion == 4:\n",
        "        print(\"Jueves\")\n",
        "    elif opcion == 5:\n",
        "        print(\"Viernes\")\n",
        "    elif opcion == 6:\n",
        "        print(\"Sabado\")\n",
        "    elif opcion == 7:\n",
        "        print(\"Domingo\")\n",
        "else:\n",
        "    print(\"Dato fuera de lo solicitado\")"
      ],
      "execution_count": null,
      "outputs": []
    },
    {
      "cell_type": "code",
      "metadata": {
        "id": "Wynun0IYU2ZT",
        "colab": {
          "base_uri": "https://localhost:8080/"
        },
        "outputId": "d0189beb-eda1-4358-af9d-40a42283aa1d"
      },
      "source": [
        "# For y range.\n",
        "# Range es una función que te proporciona un enumarado \n",
        "\n",
        "algo = range(4, 10, 2)\n",
        "frutas = ['pera', 'manzana', 'aguacate', 'kiwi', 'plátano']\n",
        "nombre = \"Santiago\"\n",
        "print(algo)\n",
        "\n",
        "for x in algo: # Equivalente a for (int x = 4; x < 10; x = x + 2)\n",
        "\n",
        "    print(x)\n",
        "\n",
        "for index in range(5): #range(1,5,1)\n",
        "    print(frutas[index])\n",
        "\n",
        "\n",
        "#for e iteaciones (for -each)\n",
        "for nombre_var in frutas:\n",
        "    print(nombre_var)\n",
        "\n",
        "for letra in nombre:\n",
        "    print(letra)"
      ],
      "execution_count": null,
      "outputs": [
        {
          "output_type": "stream",
          "name": "stdout",
          "text": [
            "range(4, 10, 2)\n",
            "4\n",
            "6\n",
            "8\n",
            "pera\n",
            "manzana\n",
            "aguacate\n",
            "kiwi\n",
            "plátano\n",
            "pera\n",
            "manzana\n",
            "aguacate\n",
            "kiwi\n",
            "plátano\n",
            "S\n",
            "a\n",
            "n\n",
            "t\n",
            "i\n",
            "a\n",
            "g\n",
            "o\n"
          ]
        }
      ]
    },
    {
      "cell_type": "code",
      "metadata": {
        "id": "1un-s669X8Ga"
      },
      "source": [
        "# while (en Phytoon no existe do while)\n",
        "# Hacer un programa que imprima del 1 al 10 con while\n",
        "control = 1\n",
        "\n",
        "while control <= 10:\n",
        "    print(control)\n",
        "    control += 1"
      ],
      "execution_count": null,
      "outputs": []
    },
    {
      "cell_type": "markdown",
      "metadata": {
        "id": "PnoeOsE4Y-xe"
      },
      "source": [
        "#Funciones\n",
        "Es un segmento de código que recibe cero o más valores de entrada, realiza una o un conjunto de operaciones de forma interna y regresa un solo tipo de dato, aunque ese valor sea \"None\" (void).\n",
        "Se declaran con la palabra reservada **def**"
      ]
    },
    {
      "cell_type": "code",
      "metadata": {
        "id": "shhk-KSrZN2_"
      },
      "source": [
        "# funcion suma\n",
        "\n",
        "def suma(a, b):\n",
        "    c = 0\n",
        "    c = a + b\n",
        "    return c\n",
        "\n",
        "print( suma ( 4 , 5 ) )\n",
        "\n",
        "def saludar(nombre):\n",
        "    print(f\"Hola {nombre}, ¿cómo estás?\")\n",
        "\n",
        "print(saludar(\"Jesus\"))\n",
        "nombre = \"Santiago\"\n",
        "print(saludar(nombre))\n"
      ],
      "execution_count": null,
      "outputs": []
    },
    {
      "cell_type": "markdown",
      "metadata": {
        "id": "wzc0aw1cbeLI"
      },
      "source": [
        "#Listas, diccionarios, tuplas y sets (RECORDAR HABLAR DE FUNCIONES AVANZADAS)"
      ]
    },
    {
      "cell_type": "markdown",
      "metadata": {
        "id": "xAcqY5bhIXNc"
      },
      "source": [
        "#Default y funciones\n",
        "Hay ocasiones que es necesarui deckarar valores por defecto en los argumentos de una funcion  "
      ]
    },
    {
      "cell_type": "code",
      "metadata": {
        "id": "g9FjvEV1JZ2m"
      },
      "source": [
        "def saludar (nombre, veces = 5): #Poniendo una asignacion en el argumento por deecto tomará 5\n",
        "    for x in range ( veces ):\n",
        "        print(f\"{x + 1}.- Hola { nombre }\")\n",
        "\n",
        "saludar(\"Juan\", 2)\n",
        "\n",
        "#Argumentos con llamadas NO posicionales\n",
        "saludar( veces = 6, nombre = \"Juan\") #Para no tener que meter los datos en orden\n",
        "\n"
      ],
      "execution_count": null,
      "outputs": []
    },
    {
      "cell_type": "markdown",
      "metadata": {
        "id": "T3G5k3dDL_JU"
      },
      "source": [
        "#Listas\n",
        "Son estructuras de datos declaradas en Phyton. Funcionan como los arreglos en Java y C, con algunas diferencias. \n",
        "\n",
        "- Usan el selector [ ]\n",
        "- Es una estructura secuencial [0, 1, ..., n]\n",
        "- Son mutables (se pueden modificar)\n",
        "- Puede contener valores de diferente tipo: [1, \"Manzana\", True, 1.23]\n",
        "- Pueden ser anidados [multidimensionales]\n",
        "- Se crean usando [ ] y con el constructor list()"
      ]
    },
    {
      "cell_type": "code",
      "metadata": {
        "id": "eHTcNFHDM65g"
      },
      "source": [
        "frutas = [\"pera\", \"lima\", \"limón\", \"kiwi\", \"manzana\"]\n",
        "print(frutas[1])\n",
        "frutas[1] = \"mango\"\n",
        "print(frutas)\n",
        "\n",
        "persona = [\"Jose\", 1.78, 19, False, 70.5, \"ICO\"]\n",
        "print(persona[-1])\n",
        "\n",
        "numeros = [2,4,6,8,10,12,14,16,18,20]\n",
        "print(numeros[4:7])"
      ],
      "execution_count": null,
      "outputs": []
    },
    {
      "cell_type": "code",
      "metadata": {
        "id": "VecdpE4mPB8g"
      },
      "source": [
        "#Listas multidimensionales\n",
        "\n",
        "bds = [ \"mysql\" , \"Oracle\" , \"BD2\" , \"Mongo\" , \"SQLite\" ]\n",
        "leng_prog = [ \"C\" , \"Java\" , \"JS\" , \"C++\", \"C#\", \"Phyton\" ]\n",
        "tecnologias = [ bds , leng_prog ]\n",
        "print(tecnologias)\n",
        "# [\n",
        "#   ['mysql', 'Oracle', 'BD2', 'Mongo', 'SQLite'], \n",
        "#   ['C', 'Java', 'JS', 'C++', 'C#', 'Phyton']\n",
        "#]\n",
        "print(tecnologias[1][3])\n",
        "print(tecnologias[0][-1])\n",
        "print(tecnologias[1][2:5])"
      ],
      "execution_count": null,
      "outputs": []
    },
    {
      "cell_type": "markdown",
      "metadata": {
        "id": "zefmpkzwSqYW"
      },
      "source": [
        "#La clase list \n",
        "El tipo de dato list en realidad es una clase que tiene métodos.\n"
      ]
    },
    {
      "cell_type": "code",
      "metadata": {
        "id": "qnd6TO6eSzdk"
      },
      "source": [
        "numeros = [ 100 , 23, 45, 23, 55, 1, 22, 101, 99, 10, 13]\n",
        "type(numeros)\n",
        "#dir( numeros )\n",
        "numeros.sort() \n",
        "print( numeros )\n",
        "numeros.reverse()\n",
        "print( numeros )\n",
        "\n",
        "#Eliminar elementos de un arreglo\n",
        "#Utilizando remove\n",
        "numeros.remove(55)\n",
        "\n",
        "#Utilizando el operador del \n",
        "del numeros[2]\n",
        "print( numeros )\n",
        "\n",
        "#append agrega elementos al final \n",
        "numeros.append(0)\n",
        "numeros.append(33)\n",
        "numeros.sort()\n",
        "numeros.reverse()\n",
        "print( numeros )\n",
        "\n",
        "#Insert agrega un valor a una posición específica \n",
        "numeros.insert(2 , 60)\n",
        "print(numeros)\n",
        "#Elimina un valor y lo puede mostrar\n",
        "n = numeros.pop()\n",
        "print( n )\n",
        "print( numeros )\n",
        "\n",
        "n = numeros.pop(1)\n",
        "print( n )\n",
        "print( numeros )\n",
        "\n",
        "#Para unir dos listas\n",
        "mas_numeros = [400, 500, 600]\n",
        "numeros.extend(mas_numeros)\n",
        "print( numeros )\n",
        "\n",
        "#Vacia la lista\n",
        "\"\"\"\n",
        "numeros.clear()\n",
        "print( numeros )\n",
        "\"\"\"\n",
        "\n",
        "#Listas y la estructura de control FOR\n",
        "\n",
        "for num in numeros: \n",
        "    print(f\"--> {num} <--\")"
      ],
      "execution_count": null,
      "outputs": []
    },
    {
      "cell_type": "markdown",
      "metadata": {
        "id": "6obFatBzlOBZ"
      },
      "source": [
        "#Tuplas\n",
        "Es una estructura de datos lineal.\n",
        "- Son **inmutables** \n",
        "- Usan menos espacio en memoria \n",
        "- Utiles para declarar valores de consulta\n",
        "- Se declaran con \"( )\"\n",
        "- Fuera de lo anterior, las demás características son las mismas que la de las listas"
      ]
    },
    {
      "cell_type": "code",
      "metadata": {
        "id": "PpWbTXLDmP_W"
      },
      "source": [
        "datos_conexion = (\"123.234.145.23\", \"juan\", \"patito123\")\n",
        "print(f\"IP: {datos_conexion[0]}\" )"
      ],
      "execution_count": null,
      "outputs": []
    },
    {
      "cell_type": "markdown",
      "metadata": {
        "id": "GF6qbfBNYHwY"
      },
      "source": [
        "#Diccionarios \n",
        "- Estructura no lineal\n",
        "- Formada por llave - valor (\"key\" : valor) donde valor puede ser de cualquier tipo: int, float, list, diccionario. (Pueden ser anidadas)\n",
        "- No se seleccionan con [ numero ]\n",
        "- Se selecciona con [ 'llave' ]\n",
        "- Su selector es por llave (key)\n",
        "- Son mutables "
      ]
    },
    {
      "cell_type": "code",
      "metadata": {
        "id": "R1tWz8YPYnWQ"
      },
      "source": [
        "persona = { \"nombre\":\"José\", \"edad\":19, \"estatura\":1.7 }\n",
        "print(f\"La estatura es: { persona['estatura'] } m\") #Ojo con la comilla simple\n",
        "\n",
        "estudiante = {\n",
        "            \"nombre\" : { \"nombres\" : [\"Juan\", \"Jose\"] ,\n",
        "            \"paterno\" : \"Pérez\" ,\n",
        "            \"materno\" : \"Garcia\"\n",
        "            } ,\n",
        "            \"edad\" : 19 ,\n",
        "            \"estatura\" : 1.7,\n",
        "            \"carrera\" : {\n",
        "            \"escuala\" : \"UNAM FES Aragón\",\n",
        "            \"Carrera\" : \"ICO\",\n",
        "            \"semestre\" : 2\n",
        "            },\n",
        "            \"direccion\" : {\n",
        "            \"calle\" : \"Colorines\",\n",
        "            \"num_exterior\" : 34,\n",
        "            \"interior\" : \"apartmento B\"\n",
        "            },\n",
        "            \"telefonos\" : {\n",
        "            \"casa\" : 556463663,\n",
        "            \"celular\" : [\"+5255767664\" , \"+52557373773\"]\n",
        "            }\n",
        "\n",
        "}\n",
        "print(estudiante['direccion']['calle'])\n",
        "print(estudiante['estatura'])\n",
        "print(estudiante['telefonos']['celular'][1])\n",
        "print(f\"Primer nombre:    { estudiante['nombre']['nombres'][0] } \")\n",
        "print(f\"Segundo nombre:   { estudiante['nombre']['nombres'][1] } \")\n",
        "print(f\"Apellidos:        { estudiante['nombre']['paterno']} { estudiante['nombre']['materno']}  \")\n",
        "\n",
        "estudiante['direccion']['calle'] = \"Pancho Lopez\"\n",
        "print(f\"Calle actualizada: { estudiante['direccion']['calle'] } \")\n",
        "\n",
        "#Agregamos un nuevo elemento al diccionario\n",
        "estudiante['direccion']['colonia'] = \"Impulsora\"\n",
        "print(estudiante['direccion'])\n",
        "\n",
        "#Combinar con la invocación de métodos de los valores \n",
        "#Mostra el nombre del estudiante en mayúsculas\n",
        "print(estudiante['nombre']['nombres'][0].upper(), estudiante['nombre']['nombres'][1].upper())\n",
        "\n",
        "llaves = estudiante.keys() #Saca las llaves principales de nuestro dicc.\n",
        "print(llaves)\n",
        "print(\"\\n-------- KEYS ---------\")\n",
        "for llave in llaves:\n",
        "    print(llave, end = ': ')\n",
        "    print(estudiante[llave])\n",
        "llaves2 = estudiante['nombre'].keys()\n",
        "print(llaves2)\n",
        "\n",
        "#Value, regresa solo los valores de las llaves del dicc\n",
        "print(\"\\n---------- VALUES ---------\")\n",
        "vals = estudiante.values()\n",
        "for val in vals:\n",
        "    print(val)\n",
        "\n",
        "print(\"\\n---------- ESTUDIANTES ---------\")\n",
        "elems = estudiante.items()\n",
        "print(elems)\n",
        "\n",
        "for par in elems:\n",
        "    #print(par)\n",
        "    print(par[1])\n",
        "\n",
        "#FIN AL INTRO DE DICCIONARIOS"
      ],
      "execution_count": null,
      "outputs": []
    },
    {
      "cell_type": "markdown",
      "metadata": {
        "id": "MXnLs4Kqo7fs"
      },
      "source": [
        "#Funciones 2da Parte (el reencuentro)\n",
        "##Declarar funciones combinándolas con tuplas\n",
        "Se puede recibir una lista de arugmentos dinámica que se almacenará en una tubpla. Para ello se utiliza un operador especial que es \"*\" en la declaración de la función.\n",
        "\n",
        "def mi_funcion( *algo ):\n",
        "    print(algo)"
      ]
    },
    {
      "cell_type": "code",
      "metadata": {
        "id": "mHk4YsACp34S"
      },
      "source": [
        "def mi_funcion( *argumentos ):\n",
        "    print(argumentos)\n",
        "    return argumentos\n",
        "\n",
        "tupla = mi_funcion( 1, 2, 3, \"hola\", 3.1416 )\n",
        "print(tupla)\n",
        "\n",
        "def suma_v2( *vals ):\n",
        "    suma = 0\n",
        "    for valor in vals:\n",
        "        suma += valor\n",
        "    print(suma)\n",
        "\n",
        "suma_v2(5, 4, 4, 3, 5, 3, 2)"
      ],
      "execution_count": null,
      "outputs": []
    },
    {
      "cell_type": "markdown",
      "metadata": {
        "id": "WmepdM1lsi_J"
      },
      "source": [
        "##Declarar funciones con **diccionarios**\n",
        "def mi_funcion( **argumentos ):\n",
        "    print(argumentos) #Argumentos será un diccionario \n",
        "    "
      ]
    },
    {
      "cell_type": "code",
      "metadata": {
        "colab": {
          "base_uri": "https://localhost:8080/"
        },
        "id": "3aLyvqkUtHWX",
        "outputId": "8997853b-a594-41d0-ae02-b2358c344ff8"
      },
      "source": [
        "def mi_funcion( **argumentos ):\n",
        "    print(argumentos)\n",
        "    \n",
        "mi_funcion( nombre = \"jose\", edad = 19 )"
      ],
      "execution_count": null,
      "outputs": [
        {
          "output_type": "stream",
          "name": "stdout",
          "text": [
            "{'nombre': 'jose', 'edad': 19}\n"
          ]
        }
      ]
    },
    {
      "cell_type": "markdown",
      "metadata": {
        "id": "6UV_iKHULrED"
      },
      "source": [
        "#Módulos \n",
        "En Phyton es equivalente a un package en java o un archivo \".h\" en C. En él se declara códgio que se requiera llamar varias veces. Este debe estar empaquetado principalmente en funciones. "
      ]
    },
    {
      "cell_type": "code",
      "metadata": {
        "colab": {
          "base_uri": "https://localhost:8080/"
        },
        "id": "UMjWz-tvQi1M",
        "outputId": "bafe68f6-41e0-4935-e9dd-233bd643a80e"
      },
      "source": [
        "import mimodulo\n",
        "\n",
        "mimodulo.mi_suma(3, 4)\n",
        "mimodulo.mi_print(\"hola k ase\")\n",
        "mimodulo.al_reves(\"hola k ase\")"
      ],
      "execution_count": null,
      "outputs": [
        {
          "output_type": "stream",
          "name": "stdout",
          "text": [
            "Haciendo una suma\n",
            "La suma de 3 + 4 = 7\n",
            "HOLA K ASE\n",
            "esa k aloh\n"
          ]
        }
      ]
    },
    {
      "cell_type": "code",
      "metadata": {
        "colab": {
          "base_uri": "https://localhost:8080/"
        },
        "id": "EK02CCf9Q4YX",
        "outputId": "21f5ddd4-5495-41c4-dd31-869d6eabb992"
      },
      "source": [
        "from mimodulo import mi_print\n",
        "mi_print(\"Hola de nuevo mi chavo\")\n",
        "from mimodulo import mi_suma\n",
        "mi_suma(2,2)\n",
        "from mimodulo import al_reves\n",
        "al_reves(\"severla\")"
      ],
      "execution_count": null,
      "outputs": [
        {
          "output_type": "stream",
          "name": "stdout",
          "text": [
            "HOLA DE NUEVO MI CHAVO\n",
            "Haciendo una suma\n",
            "La suma de 2 + 2 = 4\n",
            "alreves\n"
          ]
        }
      ]
    },
    {
      "cell_type": "code",
      "metadata": {
        "id": "VMd2YONiSFii"
      },
      "source": [
        "import sys \n",
        "print(sys.path) #Lista de rutas donde buscar contenido de phyton\n"
      ],
      "execution_count": null,
      "outputs": []
    },
    {
      "cell_type": "code",
      "metadata": {
        "colab": {
          "base_uri": "https://localhost:8080/"
        },
        "id": "eeVUfWphT0sa",
        "outputId": "8d43e91f-d50c-4181-cef8-bc38cc92915d"
      },
      "source": [
        "!pip install simple-chalk #Para instalar modulos "
      ],
      "execution_count": null,
      "outputs": [
        {
          "output_type": "stream",
          "name": "stdout",
          "text": [
            "Requirement already satisfied: simple-chalk in /usr/local/lib/python3.7/dist-packages (0.1.0)\n"
          ]
        }
      ]
    },
    {
      "cell_type": "code",
      "metadata": {
        "id": "lfrQZE-XUcKd"
      },
      "source": [
        "from simple_chalk import * #Que importe todo\n",
        "print(blue(\"Hola amigos, soy azul!\"))\n",
        "whyNot = green.bgWhite.red.bgGray\n",
        "print(whyNot(\"Ses\"))\n",
        "verde_sobre_negro = green.bgBlack\n",
        "print(verde_sobre_negro(\"MATRIX\"))"
      ],
      "execution_count": null,
      "outputs": []
    },
    {
      "cell_type": "markdown",
      "metadata": {
        "id": "mRRixOkZXKuV"
      },
      "source": [
        "#Archivos \n",
        "Para abrir un archivo se utiliza la función open('nombre', 'AB')\n",
        "nombre = La ruta del archivo\n",
        "A = modo de apertura (W, r, a, etc..)\n",
        "B = Formato t o b (texto o binario)\n",
        "Para leer tenemos las funciones \n",
        "\n",
        "- read()\n",
        "- readline()\n",
        "- readlines()\n",
        "\n",
        "\n",
        "\n",
        "\n"
      ]
    },
    {
      "cell_type": "code",
      "metadata": {
        "colab": {
          "base_uri": "https://localhost:8080/"
        },
        "id": "-4ok06C-Y1PE",
        "outputId": "660aa897-d310-4f93-c007-53534acec258"
      },
      "source": [
        "!cat datos.dat"
      ],
      "execution_count": null,
      "outputs": [
        {
          "output_type": "stream",
          "name": "stdout",
          "text": [
            "1,2,3,4,5,6,7\r\n",
            "8,9,10\r\n",
            "11,12\r\n",
            "13"
          ]
        }
      ]
    },
    {
      "cell_type": "code",
      "metadata": {
        "colab": {
          "base_uri": "https://localhost:8080/"
        },
        "id": "hellS9a7YTdL",
        "outputId": "901a13b5-e9f9-47e3-cb2d-b411467c3f84"
      },
      "source": [
        "\"\"\"\n",
        "1,2,3,4,5,6,7\n",
        "8,9,10\n",
        "11,12\n",
        "13\n",
        "\"\"\"\n",
        "archivo = open('datos.dat', 'rt') #La variable archivo es un puntero al fichero\n",
        "info = archivo.read() #Leeyó todo el archivo y lo almacenó\n",
        "print(info)\n",
        "\n",
        "#readline()\n",
        "print(\"--------READLINE---------\")\n",
        "archivo = open('datos.dat', 'rt')\n",
        "info = archivo.readline() #Solamente la la información hasta encontrar el primer salto de línea\n",
        "print(info)\n",
        "info = archivo.readline() #Sigue leyendo desde donde se quedó \n",
        "print(info)\n",
        "\n",
        "print(\"--------READLINES--------\")\n",
        "archivo = open('datos.dat', 'rt')\n",
        "info = archivo.readlines()\n",
        "print(info)\n",
        "for index in range(len(info)): #Quita espacios y saltos de linea\n",
        "    info[index] = info[index].strip()\n",
        "print(info)\n",
        "\n",
        "numeros = []\n",
        "for grupo in info:\n",
        "    for numero in grupo.split(','):\n",
        "        numeros.append( int(numero) )\n",
        "print(numeros)\n",
        "\n",
        "suma = 0\n",
        "for num in numeros: \n",
        "    suma += num\n",
        "\n",
        "print(suma)"
      ],
      "execution_count": null,
      "outputs": [
        {
          "output_type": "stream",
          "name": "stdout",
          "text": [
            "1,2,3,4,5,6,7\n",
            "8,9,10\n",
            "11,12\n",
            "13\n",
            "--------READLINE---------\n",
            "1,2,3,4,5,6,7\n",
            "\n",
            "8,9,10\n",
            "\n",
            "--------READLINES--------\n",
            "['1,2,3,4,5,6,7\\n', '8,9,10\\n', '11,12\\n', '13']\n",
            "['1,2,3,4,5,6,7', '8,9,10', '11,12', '13']\n",
            "[1, 2, 3, 4, 5, 6, 7, 8, 9, 10, 11, 12, 13]\n",
            "91\n"
          ]
        }
      ]
    },
    {
      "cell_type": "code",
      "metadata": {
        "id": "-2V56-7Gciq6"
      },
      "source": [
        "#Del cuestionario de control del 28/09/21\n",
        "lista = [ 1, 2, 3, 4,5 ]\n",
        "lista.append(6)\n",
        "print(lista)\n",
        "lista.pop(5) #Elimina el elemento nuevo\n",
        "print(lista)\n",
        "print(f\"El primer elemento es: {lista[0]} y el último: {lista[4]}\")"
      ],
      "execution_count": null,
      "outputs": []
    },
    {
      "cell_type": "markdown",
      "metadata": {
        "id": "BcFXNGc9fL_d"
      },
      "source": [
        "#POO con Phyton\n",
        "La POO es un paradigma no soportado originalente por Phyton pues maneja el paradigma Imperativo.\n",
        "\n",
        "Phyton simula la POO con la declaración de clases y haciendo referencia a un objeto de forma circular \"self\", self es equivalente a un \"this\" de java.\n",
        "\n",
        "1. Forma 1:\n",
        "class <nombre de la clase>:\n",
        "    <defincion del cuerpo de la clase>\n",
        "\n",
        "2. Forma 2:\n",
        "class <nombre de la clase>(<Super clase>):\n",
        "    <definicion del cuerpo de la clase>\n",
        "\n",
        "El constructor se define siempre con el método \"__init__\" (doble guíon bajo antes y después de init)\n",
        "\n",
        "La declaración de atributos se realiza por medio del constructor.\n",
        "\n",
        "Para hacer encapsulamiento de métodos o atributos se debe poner \"__\" previo a la declaración del atributo o método. "
      ]
    },
    {
      "cell_type": "code",
      "metadata": {
        "id": "4Jq0BxSAhlm8"
      },
      "source": [
        "class Persona:\n",
        "    def __init__( self, n, e, est ): #Self en phyton es equivalente al \"this\" de java\n",
        "        self.__nombre = n\n",
        "        self.__edad = e\n",
        "        self.__estatura = est\n",
        "    \n",
        "    def to_string( self ):\n",
        "        return \"Nombre: \" + self.__nombre + \" Edad: \" + str(self.__edad) + \" Estatura: \" + str(self.__estatura)\n",
        "\n",
        "    def set_estatura(self, nueva_est ):\n",
        "        if nueva_est > 0.10 and nueva_est < 2.5 :\n",
        "            self.__estatura = nueva_est\n",
        "        else:\n",
        "            print(\"Error: Verifique su dato\")\n",
        "\n",
        "    def get_estatura(self):\n",
        "        return self.__estatura"
      ],
      "execution_count": 47,
      "outputs": []
    },
    {
      "cell_type": "code",
      "metadata": {
        "colab": {
          "base_uri": "https://localhost:8080/"
        },
        "id": "3FbyOYndisY9",
        "outputId": "0cc76c97-7dee-48ee-f9b8-deae8da2a074"
      },
      "source": [
        "per = Persona(\"Jose\", 18, 1.70)\n",
        "print(per.to_string())\n",
        "\n",
        "# Encapsulamiento: Se hace por cuestiones de seguridad y de integridad (para que sean congruentes los datos con lo que se requiere)\n",
        "per.nombre = \"Pedro\" #Esto NO se recomienda en POO\n",
        "print(per.to_string())\n",
        "\n",
        "per.set_estatura(1.6)\n",
        "print(per.to_string())\n",
        "per.set_estatura(3.6)\n",
        "\n",
        "print(\"Estatura:\", end = \" \")\n",
        "#print( per.__estatura) #No se puede acceder por estar encapsulado, lo correcto es hacer un get\n",
        "print(per.get_estatura())"
      ],
      "execution_count": 46,
      "outputs": [
        {
          "output_type": "stream",
          "name": "stdout",
          "text": [
            "Nombre: Jose Edad: 18 Estatura: 1.7\n",
            "Nombre: Jose Edad: 18 Estatura: 1.7\n",
            "Nombre: Jose Edad: 18 Estatura: 1.6\n",
            "Error: Verifique su dato\n",
            "Estatura: 1.6\n"
          ]
        }
      ]
    },
    {
      "cell_type": "code",
      "metadata": {
        "id": "foR6Rg5oqt04"
      },
      "source": [
        "class Estudiante( Persona ):\n",
        "\n",
        "    def __init__( self, nc, nombre, edad, est ):\n",
        "        self.__num_cta = nc\n",
        "        super().__init__(nombre, edad, est)\n",
        "    \n",
        "    def to_string( self ):\n",
        "        return super().to_string() + \" - No. de Cuenta: \" + self.__num_cta"
      ],
      "execution_count": 48,
      "outputs": []
    },
    {
      "cell_type": "code",
      "metadata": {
        "colab": {
          "base_uri": "https://localhost:8080/"
        },
        "id": "jA5e0J0mrPr1",
        "outputId": "25a5e869-47a5-4ad4-afc8-4e4f383a8408"
      },
      "source": [
        "est = Estudiante(\"1212\", \"Jose\", 18, 1.70)\n",
        "print(est.to_string())"
      ],
      "execution_count": 49,
      "outputs": [
        {
          "output_type": "stream",
          "name": "stdout",
          "text": [
            "Nombre: Jose Edad: 18 Estatura: 1.7 - No. de Cuenta: 1212\n"
          ]
        }
      ]
    }
  ]
}